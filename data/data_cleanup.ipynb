{
 "cells": [
  {
   "cell_type": "markdown",
   "metadata": {},
   "source": [
    "## Data input and cleanup \n",
    "\n",
    "Data were collected into a table with the columns `well`, `rate`, and `mutant` using Google Docs and exported to CSV, which is the input file here. "
   ]
  },
  {
   "cell_type": "code",
   "execution_count": 38,
   "metadata": {
    "collapsed": false,
    "scrolled": false
   },
   "outputs": [
    {
     "name": "stdout",
     "output_type": "stream",
     "text": [
      "Input has 3313 rates. 3145 will be used, 168 will be dropped because of mutant name, 0 because negative). Samples set(['E17S', 'E53A', 'Q384R', 'W299A']) were dropped because the given native residue does not match the BglB sequence and is not off by three\n"
     ]
    }
   ],
   "source": [
    "import pandas\n",
    "from sklearn.linear_model import LinearRegression\n",
    "from scipy.optimize import curve_fit \n",
    "from numpy import log, exp, linspace, sqrt, diag, array\n",
    "\n",
    "df = pandas.read_csv( 'raw/assay_data.csv', index_col='mutant' )\n",
    "raw_len = len( df )\n",
    "\n",
    "df.drop( ['WT', 'WT1'], inplace=True )\n",
    "df.dropna( inplace=True ) \n",
    "\n",
    "with open( 'lit/allowed_mutants.txt' ) as fn:\n",
    "    mutants = [ i.split('.')[0].upper() for i in fn.readlines() if len( i ) > 1 ]\n",
    "    \n",
    "def is_good( name ):\n",
    "    return name in mutants \n",
    "\n",
    "not_allowed = []\n",
    "l = []\n",
    "for name in df.index:\n",
    "    if is_good( name ):\n",
    "        l.append( name )\n",
    "    else:\n",
    "        new = name[0] + str( int( name[1:-1] ) - 3 ) + name[-1]\n",
    "        if is_good( new ):\n",
    "            l.append( new )\n",
    "        else:\n",
    "            l.append( 'drop_me' )\n",
    "            not_allowed.append( name )\n",
    "            \n",
    "df.index = df['mutant'] = l\n",
    "df.drop( ['drop_me'], inplace=True )\n",
    "\n",
    "# temperature keys as CSV files in data/\n",
    "temp_key = pandas.read_csv( 'lit/temperature_key.csv' )\n",
    "temp_key.index = temp_key.Well\n",
    "df['temp'] = df.well.str[0].map( temp_key.Celsius.to_dict() ) \n",
    "df.dropna( inplace=True )\n",
    "pos_and_neg = len( df )\n",
    "#df = df[( df.rate > 0 )]\n",
    "\n",
    "# diagnostics \n",
    "print 'Input has {} rates. {} will be used, {} will be dropped because of mutant name, {} because negative).'.format( raw_len, len( df ), raw_len - pos_and_neg , pos_and_neg - len( df ) ), \n",
    "print 'Samples {} were dropped because the given native residue does not match the BglB sequence and is not off by three'.format( set( not_allowed ) )\n",
    "\n",
    "df.to_csv( 'clean/assay.csv' ) "
   ]
  },
  {
   "cell_type": "code",
   "execution_count": 39,
   "metadata": {
    "collapsed": false
   },
   "outputs": [
    {
     "name": "stdout",
     "output_type": "stream",
     "text": [
      "86 of 113 samples fit to the logistic equation\n"
     ]
    }
   ],
   "source": [
    "# define logistic equation \n",
    "def f(x, x0, k): \n",
    "    return 1/(1+exp(-k*(x-x0)))\n",
    "\n",
    "# util function to fit a mutant \n",
    "def fit( df ):\n",
    "    empty_pair = array( [ nan, nan ] ) \n",
    "    name = df.mutant.unique()[0]\n",
    "    df.rate = df.rate / df.rate.max()\n",
    "    \n",
    "    # linear fit gets us sensible starting params for the logistic fit \n",
    "    reg = LinearRegression()\n",
    "    reg.fit( df.temp.reshape(-1, 1), df.rate )\n",
    "    slope = reg.coef_[0]\n",
    "    \n",
    "    # try fitting to logistic eqn using approximate params from linear fit\n",
    "    try:\n",
    "        p0 = ( df.temp.mean(), slope )\n",
    "        popt, pcov = curve_fit( f, df.temp, df.rate, p0=p0 )\n",
    "        perr = sqrt( diag( pcov ) ) \n",
    "        \n",
    "        # error checking \n",
    "        if 20 < popt[0] < 60 and popt[1] < 0: # biological assay limits, and make sure k is the right sign\n",
    "            return pandas.Series( popt, index=['tm', 'k'] )\n",
    "        else:\n",
    "            return pandas.Series( empty_pair, index=['tm', 'k'] )\n",
    "    except Exception as e:\n",
    "        print name, e \n",
    "        return pandas.Series( empty_pair, index=['tm', 'k'] )\n",
    "    \n",
    "grouped = df.groupby( by='mutant' )\n",
    "fits = grouped.apply( fit )\n",
    "\n",
    "print '{} of {} samples fit to the logistic equation'.format( len( fits.dropna() ), len( grouped ) )"
   ]
  },
  {
   "cell_type": "code",
   "execution_count": 42,
   "metadata": {
    "collapsed": false
   },
   "outputs": [],
   "source": [
    "%matplotlib inline\n",
    "import matplotlib.pyplot as plt \n",
    "\n",
    "#!mkdir plots \n",
    "for index, df in grouped:\n",
    "    name = df.mutant.unique()[0]\n",
    "    rate = df.rate / df.rate.max() \n",
    "    plt.figure( figsize=(2,2) )\n",
    "    plt.scatter( df.temp, rate, alpha=0.7, color='black', marker='.' )\n",
    "    popt = fits.loc[ name ]\n",
    "    if popt.size == 2:\n",
    "        x_space = linspace( df.temp.min(), df.temp.max(), 100 )\n",
    "        plt.plot( x_space, f( x_space, *popt ), alpha=0.8, color='purple' )\n",
    "    plt.xlabel( 'T (C)' )\n",
    "    plt.ylabel( 'Normalized rate')\n",
    "    plt.xticks( [ 30, 40, 50 ] )\n",
    "    plt.yticks( [ 0, 0.5, 1 ] )\n",
    "    plt.title( name )\n",
    "    plt.tight_layout()\n",
    "    plt.savefig( 'plots/%s.pdf' % name, format='pdf' )\n",
    "    plt.close()"
   ]
  },
  {
   "cell_type": "code",
   "execution_count": 43,
   "metadata": {
    "collapsed": false
   },
   "outputs": [
    {
     "ename": "ValueError",
     "evalue": "cannot set a row with mismatched columns",
     "output_type": "error",
     "traceback": [
      "\u001b[0;31m---------------------------------------------------------------------------\u001b[0m",
      "\u001b[0;31mValueError\u001b[0m                                Traceback (most recent call last)",
      "\u001b[0;32m<ipython-input-43-4cdb5952a0e3>\u001b[0m in \u001b[0;36m<module>\u001b[0;34m()\u001b[0m\n\u001b[1;32m      9\u001b[0m \u001b[0;34m\u001b[0m\u001b[0m\n\u001b[1;32m     10\u001b[0m \u001b[0;32mfor\u001b[0m \u001b[0mzero\u001b[0m \u001b[0;32min\u001b[0m \u001b[0mzero_list\u001b[0m\u001b[0;34m:\u001b[0m\u001b[0;34m\u001b[0m\u001b[0m\n\u001b[0;32m---> 11\u001b[0;31m     \u001b[0mfits\u001b[0m\u001b[0;34m.\u001b[0m\u001b[0mloc\u001b[0m\u001b[0;34m[\u001b[0m \u001b[0mzero\u001b[0m \u001b[0;34m]\u001b[0m \u001b[0;34m=\u001b[0m \u001b[0;34m(\u001b[0m \u001b[0mnan\u001b[0m\u001b[0;34m,\u001b[0m \u001b[0mnan\u001b[0m \u001b[0;34m)\u001b[0m\u001b[0;34m\u001b[0m\u001b[0m\n\u001b[0m",
      "\u001b[0;32m/usr/local/bin/anaconda/lib/python2.7/site-packages/pandas/core/indexing.pyc\u001b[0m in \u001b[0;36m__setitem__\u001b[0;34m(self, key, value)\u001b[0m\n\u001b[1;32m    115\u001b[0m     \u001b[0;32mdef\u001b[0m \u001b[0m__setitem__\u001b[0m\u001b[0;34m(\u001b[0m\u001b[0mself\u001b[0m\u001b[0;34m,\u001b[0m \u001b[0mkey\u001b[0m\u001b[0;34m,\u001b[0m \u001b[0mvalue\u001b[0m\u001b[0;34m)\u001b[0m\u001b[0;34m:\u001b[0m\u001b[0;34m\u001b[0m\u001b[0m\n\u001b[1;32m    116\u001b[0m         \u001b[0mindexer\u001b[0m \u001b[0;34m=\u001b[0m \u001b[0mself\u001b[0m\u001b[0;34m.\u001b[0m\u001b[0m_get_setitem_indexer\u001b[0m\u001b[0;34m(\u001b[0m\u001b[0mkey\u001b[0m\u001b[0;34m)\u001b[0m\u001b[0;34m\u001b[0m\u001b[0m\n\u001b[0;32m--> 117\u001b[0;31m         \u001b[0mself\u001b[0m\u001b[0;34m.\u001b[0m\u001b[0m_setitem_with_indexer\u001b[0m\u001b[0;34m(\u001b[0m\u001b[0mindexer\u001b[0m\u001b[0;34m,\u001b[0m \u001b[0mvalue\u001b[0m\u001b[0;34m)\u001b[0m\u001b[0;34m\u001b[0m\u001b[0m\n\u001b[0m\u001b[1;32m    118\u001b[0m \u001b[0;34m\u001b[0m\u001b[0m\n\u001b[1;32m    119\u001b[0m     \u001b[0;32mdef\u001b[0m \u001b[0m_has_valid_type\u001b[0m\u001b[0;34m(\u001b[0m\u001b[0mself\u001b[0m\u001b[0;34m,\u001b[0m \u001b[0mk\u001b[0m\u001b[0;34m,\u001b[0m \u001b[0maxis\u001b[0m\u001b[0;34m)\u001b[0m\u001b[0;34m:\u001b[0m\u001b[0;34m\u001b[0m\u001b[0m\n",
      "\u001b[0;32m/usr/local/bin/anaconda/lib/python2.7/site-packages/pandas/core/indexing.pyc\u001b[0m in \u001b[0;36m_setitem_with_indexer\u001b[0;34m(self, indexer, value)\u001b[0m\n\u001b[1;32m    332\u001b[0m                             \u001b[0;32mif\u001b[0m \u001b[0mlen\u001b[0m\u001b[0;34m(\u001b[0m\u001b[0mvalue\u001b[0m\u001b[0;34m)\u001b[0m \u001b[0;34m!=\u001b[0m \u001b[0mlen\u001b[0m\u001b[0;34m(\u001b[0m\u001b[0mself\u001b[0m\u001b[0;34m.\u001b[0m\u001b[0mobj\u001b[0m\u001b[0;34m.\u001b[0m\u001b[0mcolumns\u001b[0m\u001b[0;34m)\u001b[0m\u001b[0;34m:\u001b[0m\u001b[0;34m\u001b[0m\u001b[0m\n\u001b[1;32m    333\u001b[0m                                 raise ValueError(\n\u001b[0;32m--> 334\u001b[0;31m                                     \u001b[0;34m\"cannot set a row with mismatched columns\"\u001b[0m\u001b[0;34m\u001b[0m\u001b[0m\n\u001b[0m\u001b[1;32m    335\u001b[0m                                     )\n\u001b[1;32m    336\u001b[0m \u001b[0;34m\u001b[0m\u001b[0m\n",
      "\u001b[0;31mValueError\u001b[0m: cannot set a row with mismatched columns"
     ]
    }
   ],
   "source": [
    "# I looked at all the plots \n",
    "\n",
    "zero_list = [ \n",
    "    'E353A', 'H315E', 'M261D', 'P329N', 'Q313R', 'R76A', 'S16A', \n",
    "    'W325H', 'W325L', 'W407G', 'Y294F', \n",
    "]\n",
    "\n",
    "from numpy import nan \n",
    "\n",
    "for zero in zero_list:\n",
    "    fits.loc[ zero ] = ( nan, nan ) "
   ]
  },
  {
   "cell_type": "code",
   "execution_count": null,
   "metadata": {
    "collapsed": true
   },
   "outputs": [],
   "source": [
    "# add metadata\n",
    "fits['native'] = fits.index.str[0]\n",
    "fits['designed'] = fits.index.str[-1]\n",
    "fits['position'] = fits.index.str[1:-1].astype( int )"
   ]
  },
  {
   "cell_type": "code",
   "execution_count": null,
   "metadata": {
    "collapsed": false
   },
   "outputs": [],
   "source": [
    "# production and purification data \n",
    "pp = pandas.read_csv( 'raw/production.csv', index_col='mutant' )\n",
    "#print pp.index.value_counts()\n",
    "\n",
    "# this is a sanity-checking routine for \"off-by-threes\"\n",
    "# let's just rename all the tubes\n",
    "pp_not_allowed = []\n",
    "l = []\n",
    "pp.drop( [ 'WT', 'nan' ], axis=0, inplace=True ) \n",
    "\n",
    "from numpy import nan \n",
    "\n",
    "for name in pp.index: \n",
    "    if type( name ) == float:\n",
    "        l.append( 'drop_me' ) \n",
    "    elif is_good( name ):\n",
    "        l.append( name )\n",
    "    else:\n",
    "        new = name[0] + str( int( name[1:-1] ) - 3 ) + name[-1]\n",
    "        if is_good( new ):\n",
    "            l.append( new )\n",
    "        else:\n",
    "            l.append( 'drop_me' )\n",
    "            not_allowed.append( name )\n",
    "\n",
    "pp.index = l\n",
    "joined = pp.join( fits )"
   ]
  },
  {
   "cell_type": "code",
   "execution_count": null,
   "metadata": {
    "collapsed": false
   },
   "outputs": [],
   "source": [
    "plos = pandas.read_csv( '/Users/alex/Documents/bagel-data/clean_data/clean_for_pandas.csv', index_col='name' ) \n",
    "plos_join = joined.join( plos, rsuffix='PLOS' ) \n",
    "plos_join.to_csv( 'raw/join.csv' ) "
   ]
  }
 ],
 "metadata": {
  "kernelspec": {
   "display_name": "Python 2",
   "language": "python",
   "name": "python2"
  },
  "language_info": {
   "codemirror_mode": {
    "name": "ipython",
    "version": 2
   },
   "file_extension": ".py",
   "mimetype": "text/x-python",
   "name": "python",
   "nbconvert_exporter": "python",
   "pygments_lexer": "ipython2",
   "version": "2.7.11"
  }
 },
 "nbformat": 4,
 "nbformat_minor": 0
}
