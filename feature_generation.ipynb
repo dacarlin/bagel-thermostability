{
 "cells": [
  {
   "cell_type": "markdown",
   "metadata": {},
   "source": [
    "# Feature generation for enzymes using Rosetta "
   ]
  },
  {
   "cell_type": "markdown",
   "metadata": {},
   "source": [
    "Here, we are determining the thermal stability of about a hundred and fifty point mutants of BglB (model based on 2JIE). After automated mutagensis of the BglB coding sequence, protein production, and protein purification, each mutant's activity at 100 mM pNPG at pH 7.4 at a range of temperatures from 30 C to 50 C was measured using the rate of formation of the pNPG hydrolysis product p-nitrophenol. \n",
    "\n",
    "We have expression data for about 150 and Tms for about 70 mutants (along with kinetic constants for another 100 or so). Let's generate some features based on the Rosetta models. "
   ]
  },
  {
   "cell_type": "code",
   "execution_count": 1,
   "metadata": {
    "collapsed": false
   },
   "outputs": [],
   "source": [
    "import pandas\n",
    "\n",
    "df = pandas.read_csv( 'data/clean/production.csv', index_col='mutant' )\n",
    "df['pos'] = df.index.str[1:-1].astype( int )\n",
    "df['designed'] = df.index.str[-1:]\n",
    "df.drop( 'WT', inplace=True ) "
   ]
  },
  {
   "cell_type": "markdown",
   "metadata": {},
   "source": [
    "## Rosetta modeling using `ddg_monomer` "
   ]
  },
  {
   "cell_type": "code",
   "execution_count": 2,
   "metadata": {
    "collapsed": false
   },
   "outputs": [],
   "source": [
    "# makes resfiles for DDG Rosetta app \n",
    "#!mkdir ddg/resfiles \n",
    "\n",
    "for ( index, series ) in df.iterrows():\n",
    "    with open( 'protocols/ddg/resfiles/{}'.format( index ), 'w' ) as fn:\n",
    "        fn.write( 'NATRO\\nSTART\\n{} A PIKAA {}'.format( series.pos, series.designed ) )"
   ]
  },
  {
   "cell_type": "code",
   "execution_count": 3,
   "metadata": {
    "collapsed": false,
    "scrolled": false
   },
   "outputs": [
    {
     "data": {
      "text/plain": [
       "<matplotlib.text.Text at 0x111aaab50>"
      ]
     },
     "execution_count": 3,
     "metadata": {},
     "output_type": "execute_result"
    },
    {
     "data": {
      "image/png": "[encoded data removed]",
      "text/plain": [
       "<matplotlib.figure.Figure at 0x11231c2d0>"
      ]
     },
     "metadata": {},
     "output_type": "display_data"
    }
   ],
   "source": [
    "# create pandas-parsable data \n",
    "\n",
    "#! ( head -1 protocols/ddg/ddg_predictions.out && grep -v desc protocols/ddg/ddg_predictions.out ) > protocols/ddg/readable_output\n",
    "ddg_features = pandas.read_csv( 'protocols/results/apo_kellogg.out', sep='\\s+', index_col='description' )\n",
    "J = df.join( ddg_features )\n",
    "\n",
    "%matplotlib inline\n",
    "import matplotlib.pyplot as plt \n",
    "\n",
    "# colored by expression \n",
    "\n",
    "plt.scatter( J.fa_rep, J.total, c=J.protein_on_gel, cmap='gray' )\n",
    "plt.xlabel( 'fa_rep' )\n",
    "plt.ylabel( 'total_score' ) "
   ]
  },
  {
   "cell_type": "markdown",
   "metadata": {},
   "source": [
    "## Enzyme design features \n",
    "\n",
    "### Elastic net for feature selection and prediction of continuous variable $T_M$"
   ]
  },
  {
   "cell_type": "code",
   "execution_count": 4,
   "metadata": {
    "collapsed": false
   },
   "outputs": [],
   "source": [
    "# read in and clean up the feature set \n",
    "\n",
    "import pandas\n",
    "\n",
    "def low_10( df ):\n",
    "    return df.sort_values( [ 'all_cst', 'total_score' ] ).head( 10 ).mean()\n",
    "\n",
    "models = pandas.read_csv( 'protocols/enzyme_design/scorefile.csv' ) \n",
    "grouped = models.groupby( 'name' ).apply( low_10 ) \n",
    "\n",
    "df = pandas.read_csv( 'data/clean/production.csv', index_col='mutant' ) \n",
    "df['norm_tm'] = df.tm - 39.5\n",
    "\n",
    "J = df.join( grouped )\n",
    "\n",
    "# clean up data for sklearn\n",
    "x_cols = [ u'total_score', u'fa_rep', u'hbond_sc', u'tot_pstat_pm',\n",
    "       u'tot_nlpstat_pm', u'tot_burunsat_pm', u'tot_hbond_pm',\n",
    "       u'tot_NLconts_pm', u'tot_nlsurfaceE_pm', u'tot_total_charge',\n",
    "       u'SR_1_total_score', u'SR_1_fa_rep', u'SR_1_hbond_sc',\n",
    "       u'SR_1_hbond_pm', u'SR_1_burunsat_pm',\n",
    "       u'SR_1_pstat_pm', u'SR_1_nlpstat_pm', u'SR_2_total_score',\n",
    "       u'SR_2_fa_rep', u'SR_2_hbond_sc', u'SR_2_all_cst', u'SR_2_hbond_pm',\n",
    "       u'SR_2_burunsat_pm', u'SR_2_pstat_pm', u'SR_2_nlpstat_pm',\n",
    "       u'SR_3_total_score', u'SR_3_fa_rep', u'SR_3_hbond_sc', \n",
    "       u'SR_3_hbond_pm', u'SR_3_burunsat_pm', u'SR_3_pstat_pm',\n",
    "       u'SR_3_nlpstat_pm', u'SR_4_total_score', u'SR_4_fa_rep',\n",
    "       u'SR_4_hbond_sc', u'SR_4_hbond_pm',\n",
    "       u'SR_4_burunsat_pm', u'SR_4_pstat_pm', u'SR_4_nlpstat_pm',\n",
    "       u'SR_5_total_score', u'SR_5_fa_rep', u'SR_5_hbond_sc', u'SR_5_all_cst',\n",
    "       u'SR_5_interf_E_1_2', u'SR_5_dsasa_1_2', u'SR_5_hbond_pm',\n",
    "       u'SR_5_burunsat_pm', 'tm' ]\n",
    "\n",
    "J = J[ x_cols ]\n",
    "J.to_csv( 'protocols/enzyme_design/feature_set.csv' ) "
   ]
  },
  {
   "cell_type": "code",
   "execution_count": 6,
   "metadata": {
    "collapsed": false,
    "scrolled": false
   },
   "outputs": [
    {
     "data": {
      "image/png": "[encoded data removed]",
      "text/plain": [
       "<matplotlib.figure.Figure at 0x111919b90>"
      ]
     },
     "metadata": {},
     "output_type": "display_data"
    }
   ],
   "source": [
    "# train and evaluate classifiers for predicting tm \n",
    "\n",
    "from sklearn.linear_model import ElasticNetCV\n",
    "from sklearn.ensemble import BaggingRegressor\n",
    "from sklearn.cross_validation import StratifiedKFold\n",
    "from sklearn.metrics import r2_score\n",
    "from sklearn.pipeline import Pipeline\n",
    "from sklearn import preprocessing\n",
    "from sklearn.learning_curve import validation_curve\n",
    "from scipy.stats import pearsonr\n",
    "import pandas\n",
    "import matplotlib.pyplot as plt \n",
    "%matplotlib inline\n",
    "\n",
    "# read in data \n",
    "\n",
    "df = pandas.read_csv( 'protocols/enzyme_design/feature_set.csv', index_col=0 ).dropna()\n",
    "df['norm_tm'] = df.tm - 39.5 # BglB native Tm\n",
    "\n",
    "# construct pipeline \n",
    "\n",
    "L = [ 0.03, 0.1, 0.3, 0.9, 0.95, 0.97 ] \n",
    "\n",
    "param_grid = [\n",
    "    { \n",
    "        'en__l1_ratio': L, \n",
    "        'en__selection': 'random', \n",
    "    }, \n",
    "]\n",
    "\n",
    "pln = Pipeline([\n",
    "    ( 'scaler', preprocessing.StandardScaler() ), \n",
    "    ( 'en', BaggingRegressor( ElasticNetCV( cv=10, selection='random' ), n_estimators=1, n_jobs=-1 ) ), \n",
    "])\n",
    "\n",
    "X = df.drop( [ 'tm', 'norm_tm' ], axis=1 ) \n",
    "y = df.norm_tm \n",
    "\n",
    "plt.figure( figsize=(3, 3) )\n",
    "plt.title( 'Elastic net with bagging performance' ) \n",
    "plt.xlabel( 'N-fold cross validation' ) \n",
    "plt.ylabel( 'Model score' ) \n",
    "\n",
    "for i in range( 2, 10 ):\n",
    "    pln.fit( X, y ) \n",
    "    score = pln.score( X, y )\n",
    "    \n",
    "    plt.scatter( i, score ) \n",
    "    plt.plot( i, score, alpha=0.1 ) \n",
    "\n",
    "plt.show?"
   ]
  },
  {
   "cell_type": "code",
   "execution_count": 9,
   "metadata": {
    "collapsed": false
   },
   "outputs": [
    {
     "name": "stdout",
     "output_type": "stream",
     "text": [
      "[ 0.875       0.375       0.75        0.75        0.625       0.75\n",
      "  0.85714286  0.71428571]\n",
      "[ 0.875       0.75        0.875       0.875       0.625       0.625\n",
      "  0.85714286  0.85714286]\n"
     ]
    },
    {
     "data": {
      "image/png": "[encoded data removed]",
      "text/plain": [
       "<matplotlib.figure.Figure at 0x11695a290>"
      ]
     },
     "metadata": {},
     "output_type": "display_data"
    }
   ],
   "source": [
    "from sklearn import svm, cross_validation\n",
    "from sklearn.metrics import roc_curve \n",
    "\n",
    "df = pandas.read_csv( 'protocols/enzyme_design/feature_set.csv', index_col=0 ).dropna()\n",
    "\n",
    "X = df.drop( [ 'tm', 'protein_on_gel' ], axis=1 ) \n",
    "\n",
    "scaler = preprocessing.StandardScaler()\n",
    "X = scaler.fit_transform( X ) \n",
    "\n",
    "y = df.protein_on_gel.round()\n",
    "\n",
    "plt.figure( figsize=(4,4) )\n",
    "\n",
    "classifiers = [\n",
    "    ( 'linear svm', svm.SVC( kernel='linear', C=0.3 ) ), \n",
    "    ( 'RBF svm', svm.SVC( kernel='rbf', C=3. ) ), \n",
    "]\n",
    "\n",
    "legend = []\n",
    "for name, clf in classifiers:\n",
    "    \n",
    "    print cross_validation.cross_val_score( clf, X, y, cv=8 ) \n",
    "    \n",
    "    clf.fit( X, y )\n",
    "    preds = clf.predict( X ) \n",
    "    dec = clf.decision_function( X ) \n",
    "\n",
    "    fpr_train, tpr_train, __ = roc_curve( y, dec ) \n",
    "\n",
    "    plt.plot( fpr_train, tpr_train ) \n",
    "    leg.append( name ) \n",
    "\n",
    "plt.plot([0, 1], [0, 1], 'k--')\n",
    "plt.xlim([-0.02, 1.02])\n",
    "plt.ylim([-0.02, 1.02])\n",
    "\n",
    "plt.xlabel('False Positive Rate')\n",
    "plt.ylabel('True Positive Rate')\n",
    "plt.title('SVM results')\n",
    "plt.legend( legend, loc='lower right' )\n",
    "plt.show()\n",
    "\n",
    "cross_validation.cross_val_score?"
   ]
  },
  {
   "cell_type": "code",
   "execution_count": 10,
   "metadata": {
    "collapsed": true
   },
   "outputs": [],
   "source": [
    "from sklearn.grid_search import GridSearchCV\n",
    "from sklearn.svm import SVC \n",
    "\n",
    "pipe_svc = Pipeline"
   ]
  },
  {
   "cell_type": "code",
   "execution_count": null,
   "metadata": {
    "collapsed": true
   },
   "outputs": [],
   "source": []
  }
 ],
 "metadata": {
  "kernelspec": {
   "display_name": "Python 2",
   "language": "python",
   "name": "python2"
  },
  "language_info": {
   "codemirror_mode": {
    "name": "ipython",
    "version": 2
   },
   "file_extension": ".py",
   "mimetype": "text/x-python",
   "name": "python",
   "nbconvert_exporter": "python",
   "pygments_lexer": "ipython2",
   "version": "2.7.11"
  }
 },
 "nbformat": 4,
 "nbformat_minor": 0
}
